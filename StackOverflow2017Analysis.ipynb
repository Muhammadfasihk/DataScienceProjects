{
 "cells": [
  {
   "cell_type": "markdown",
   "metadata": {},
   "source": [
    "<h1> Business Understanding </h1>\n",
    "\n",
    "\n",
    "<p> The StackOverflow Developer's Survey contains responses from programming veterans across the industry. It includes a column called CousinEducation, which contains recommendations for breaking into the field of software development. At the same time, the data contains crucial information on factors that influence salary for software developers. </p>\n",
    "\n",
    "<p> Based on the data, we can ask the following questions: </p>\n",
    "\n",
    "<ol>\n",
    "    <li> How to break into the field? </li>\n",
    "    <li> Are respondents with higher formal education biased towards their own degrees? </li>\n",
    "    <li> Are bootcamps worth it? </li>\n",
    "    <li> How do different data attributes affect Job Satisfaction? </li>\n",
    "    \n",
    "</ol>\n",
    "\n",
    "\n"
   ]
  },
  {
   "cell_type": "code",
   "execution_count": 1,
   "metadata": {},
   "outputs": [
    {
     "data": {
      "text/html": [
       "<div>\n",
       "<style scoped>\n",
       "    .dataframe tbody tr th:only-of-type {\n",
       "        vertical-align: middle;\n",
       "    }\n",
       "\n",
       "    .dataframe tbody tr th {\n",
       "        vertical-align: top;\n",
       "    }\n",
       "\n",
       "    .dataframe thead th {\n",
       "        text-align: right;\n",
       "    }\n",
       "</style>\n",
       "<table border=\"1\" class=\"dataframe\">\n",
       "  <thead>\n",
       "    <tr style=\"text-align: right;\">\n",
       "      <th></th>\n",
       "      <th>Respondent</th>\n",
       "      <th>Professional</th>\n",
       "      <th>ProgramHobby</th>\n",
       "      <th>Country</th>\n",
       "      <th>University</th>\n",
       "      <th>EmploymentStatus</th>\n",
       "      <th>FormalEducation</th>\n",
       "      <th>MajorUndergrad</th>\n",
       "      <th>HomeRemote</th>\n",
       "      <th>CompanySize</th>\n",
       "      <th>...</th>\n",
       "      <th>StackOverflowMakeMoney</th>\n",
       "      <th>Gender</th>\n",
       "      <th>HighestEducationParents</th>\n",
       "      <th>Race</th>\n",
       "      <th>SurveyLong</th>\n",
       "      <th>QuestionsInteresting</th>\n",
       "      <th>QuestionsConfusing</th>\n",
       "      <th>InterestedAnswers</th>\n",
       "      <th>Salary</th>\n",
       "      <th>ExpectedSalary</th>\n",
       "    </tr>\n",
       "  </thead>\n",
       "  <tbody>\n",
       "    <tr>\n",
       "      <th>0</th>\n",
       "      <td>1</td>\n",
       "      <td>Student</td>\n",
       "      <td>Yes, both</td>\n",
       "      <td>United States</td>\n",
       "      <td>No</td>\n",
       "      <td>Not employed, and not looking for work</td>\n",
       "      <td>Secondary school</td>\n",
       "      <td>NaN</td>\n",
       "      <td>NaN</td>\n",
       "      <td>NaN</td>\n",
       "      <td>...</td>\n",
       "      <td>Strongly disagree</td>\n",
       "      <td>Male</td>\n",
       "      <td>High school</td>\n",
       "      <td>White or of European descent</td>\n",
       "      <td>Strongly disagree</td>\n",
       "      <td>Strongly agree</td>\n",
       "      <td>Disagree</td>\n",
       "      <td>Strongly agree</td>\n",
       "      <td>NaN</td>\n",
       "      <td>NaN</td>\n",
       "    </tr>\n",
       "    <tr>\n",
       "      <th>1</th>\n",
       "      <td>2</td>\n",
       "      <td>Student</td>\n",
       "      <td>Yes, both</td>\n",
       "      <td>United Kingdom</td>\n",
       "      <td>Yes, full-time</td>\n",
       "      <td>Employed part-time</td>\n",
       "      <td>Some college/university study without earning ...</td>\n",
       "      <td>Computer science or software engineering</td>\n",
       "      <td>More than half, but not all, the time</td>\n",
       "      <td>20 to 99 employees</td>\n",
       "      <td>...</td>\n",
       "      <td>Strongly disagree</td>\n",
       "      <td>Male</td>\n",
       "      <td>A master's degree</td>\n",
       "      <td>White or of European descent</td>\n",
       "      <td>Somewhat agree</td>\n",
       "      <td>Somewhat agree</td>\n",
       "      <td>Disagree</td>\n",
       "      <td>Strongly agree</td>\n",
       "      <td>NaN</td>\n",
       "      <td>37500.0</td>\n",
       "    </tr>\n",
       "    <tr>\n",
       "      <th>2</th>\n",
       "      <td>3</td>\n",
       "      <td>Professional developer</td>\n",
       "      <td>Yes, both</td>\n",
       "      <td>United Kingdom</td>\n",
       "      <td>No</td>\n",
       "      <td>Employed full-time</td>\n",
       "      <td>Bachelor's degree</td>\n",
       "      <td>Computer science or software engineering</td>\n",
       "      <td>Less than half the time, but at least one day ...</td>\n",
       "      <td>10,000 or more employees</td>\n",
       "      <td>...</td>\n",
       "      <td>Disagree</td>\n",
       "      <td>Male</td>\n",
       "      <td>A professional degree</td>\n",
       "      <td>White or of European descent</td>\n",
       "      <td>Somewhat agree</td>\n",
       "      <td>Agree</td>\n",
       "      <td>Disagree</td>\n",
       "      <td>Agree</td>\n",
       "      <td>113750.0</td>\n",
       "      <td>NaN</td>\n",
       "    </tr>\n",
       "    <tr>\n",
       "      <th>3</th>\n",
       "      <td>4</td>\n",
       "      <td>Professional non-developer who sometimes write...</td>\n",
       "      <td>Yes, both</td>\n",
       "      <td>United States</td>\n",
       "      <td>No</td>\n",
       "      <td>Employed full-time</td>\n",
       "      <td>Doctoral degree</td>\n",
       "      <td>A non-computer-focused engineering discipline</td>\n",
       "      <td>Less than half the time, but at least one day ...</td>\n",
       "      <td>10,000 or more employees</td>\n",
       "      <td>...</td>\n",
       "      <td>Disagree</td>\n",
       "      <td>Male</td>\n",
       "      <td>A doctoral degree</td>\n",
       "      <td>White or of European descent</td>\n",
       "      <td>Agree</td>\n",
       "      <td>Agree</td>\n",
       "      <td>Somewhat agree</td>\n",
       "      <td>Strongly agree</td>\n",
       "      <td>NaN</td>\n",
       "      <td>NaN</td>\n",
       "    </tr>\n",
       "    <tr>\n",
       "      <th>4</th>\n",
       "      <td>5</td>\n",
       "      <td>Professional developer</td>\n",
       "      <td>Yes, I program as a hobby</td>\n",
       "      <td>Switzerland</td>\n",
       "      <td>No</td>\n",
       "      <td>Employed full-time</td>\n",
       "      <td>Master's degree</td>\n",
       "      <td>Computer science or software engineering</td>\n",
       "      <td>Never</td>\n",
       "      <td>10 to 19 employees</td>\n",
       "      <td>...</td>\n",
       "      <td>NaN</td>\n",
       "      <td>NaN</td>\n",
       "      <td>NaN</td>\n",
       "      <td>NaN</td>\n",
       "      <td>NaN</td>\n",
       "      <td>NaN</td>\n",
       "      <td>NaN</td>\n",
       "      <td>NaN</td>\n",
       "      <td>NaN</td>\n",
       "      <td>NaN</td>\n",
       "    </tr>\n",
       "  </tbody>\n",
       "</table>\n",
       "<p>5 rows × 154 columns</p>\n",
       "</div>"
      ],
      "text/plain": [
       "   Respondent                                       Professional  \\\n",
       "0           1                                            Student   \n",
       "1           2                                            Student   \n",
       "2           3                             Professional developer   \n",
       "3           4  Professional non-developer who sometimes write...   \n",
       "4           5                             Professional developer   \n",
       "\n",
       "                ProgramHobby         Country      University  \\\n",
       "0                  Yes, both   United States              No   \n",
       "1                  Yes, both  United Kingdom  Yes, full-time   \n",
       "2                  Yes, both  United Kingdom              No   \n",
       "3                  Yes, both   United States              No   \n",
       "4  Yes, I program as a hobby     Switzerland              No   \n",
       "\n",
       "                         EmploymentStatus  \\\n",
       "0  Not employed, and not looking for work   \n",
       "1                      Employed part-time   \n",
       "2                      Employed full-time   \n",
       "3                      Employed full-time   \n",
       "4                      Employed full-time   \n",
       "\n",
       "                                     FormalEducation  \\\n",
       "0                                   Secondary school   \n",
       "1  Some college/university study without earning ...   \n",
       "2                                  Bachelor's degree   \n",
       "3                                    Doctoral degree   \n",
       "4                                    Master's degree   \n",
       "\n",
       "                                  MajorUndergrad  \\\n",
       "0                                            NaN   \n",
       "1       Computer science or software engineering   \n",
       "2       Computer science or software engineering   \n",
       "3  A non-computer-focused engineering discipline   \n",
       "4       Computer science or software engineering   \n",
       "\n",
       "                                          HomeRemote  \\\n",
       "0                                                NaN   \n",
       "1              More than half, but not all, the time   \n",
       "2  Less than half the time, but at least one day ...   \n",
       "3  Less than half the time, but at least one day ...   \n",
       "4                                              Never   \n",
       "\n",
       "                CompanySize  ... StackOverflowMakeMoney Gender  \\\n",
       "0                       NaN  ...      Strongly disagree   Male   \n",
       "1        20 to 99 employees  ...      Strongly disagree   Male   \n",
       "2  10,000 or more employees  ...               Disagree   Male   \n",
       "3  10,000 or more employees  ...               Disagree   Male   \n",
       "4        10 to 19 employees  ...                    NaN    NaN   \n",
       "\n",
       "  HighestEducationParents                          Race         SurveyLong  \\\n",
       "0             High school  White or of European descent  Strongly disagree   \n",
       "1       A master's degree  White or of European descent     Somewhat agree   \n",
       "2   A professional degree  White or of European descent     Somewhat agree   \n",
       "3       A doctoral degree  White or of European descent              Agree   \n",
       "4                     NaN                           NaN                NaN   \n",
       "\n",
       "  QuestionsInteresting QuestionsConfusing InterestedAnswers    Salary  \\\n",
       "0       Strongly agree           Disagree    Strongly agree       NaN   \n",
       "1       Somewhat agree           Disagree    Strongly agree       NaN   \n",
       "2                Agree           Disagree             Agree  113750.0   \n",
       "3                Agree     Somewhat agree    Strongly agree       NaN   \n",
       "4                  NaN                NaN               NaN       NaN   \n",
       "\n",
       "   ExpectedSalary  \n",
       "0             NaN  \n",
       "1         37500.0  \n",
       "2             NaN  \n",
       "3             NaN  \n",
       "4             NaN  \n",
       "\n",
       "[5 rows x 154 columns]"
      ]
     },
     "execution_count": 1,
     "metadata": {},
     "output_type": "execute_result"
    }
   ],
   "source": [
    "import numpy as np\n",
    "import pandas as pd\n",
    "import matplotlib.pyplot as plt; plt.rcdefaults()\n",
    "import missingno as msno\n",
    "from collections import defaultdict\n",
    "from IPython import display\n",
    "from sklearn.linear_model import LinearRegression\n",
    "from sklearn.model_selection import train_test_split\n",
    "from sklearn.metrics import r2_score, mean_squared_error\n",
    "import seaborn as sns\n",
    "\n",
    "import seaborn as sns\n",
    "%matplotlib inline\n",
    "from sklearn.linear_model import Ridge\n",
    "from sklearn.linear_model import Lasso\n",
    "from sklearn.linear_model import ElasticNet\n",
    "from sklearn.neighbors import KNeighborsRegressor\n",
    "from sklearn.tree import DecisionTreeRegressor\n",
    "from sklearn.svm import SVR\n",
    "from sklearn.ensemble import RandomForestRegressor\n",
    "\n",
    "df = pd.read_csv('E:\\DataScienceProjects\\survey-results-public.csv')\n",
    "schema = pd.read_csv('E:\\DataScienceProjects\\survey-results-schema.csv')\n",
    "df.head()"
   ]
  },
  {
   "cell_type": "markdown",
   "metadata": {},
   "source": [
    "<h1>Data Understanding</h1>"
   ]
  },
  {
   "cell_type": "code",
   "execution_count": 2,
   "metadata": {},
   "outputs": [
    {
     "name": "stdout",
     "output_type": "stream",
     "text": [
      "Number of rows: 51392\n",
      "Number of columns: 154\n"
     ]
    }
   ],
   "source": [
    "rows = df.shape[0]\n",
    "columns = df.shape[1]\n",
    "Prof_Dev = df.loc[(df[\"Professional\"] == \"Professional developer\") | (df[\"Professional\"] == \"Used to be a professional developer\") ]\n",
    "\n",
    "print(\"Number of rows: {}\\nNumber of columns: {}\".format(rows,columns))\n",
    "\n",
    "\n"
   ]
  },
  {
   "cell_type": "code",
   "execution_count": 3,
   "metadata": {
    "scrolled": true
   },
   "outputs": [
    {
     "name": "stdout",
     "output_type": "stream",
     "text": [
      "0.7030471668742216\n"
     ]
    },
    {
     "data": {
      "image/png": "[encoded data removed]",
      "text/plain": [
       "<Figure size 432x288 with 1 Axes>"
      ]
     },
     "metadata": {
      "needs_background": "light"
     },
     "output_type": "display_data"
    }
   ],
   "source": [
    "ProfList= df[\"Professional\"].value_counts()\n",
    "status_vals = pd.Series(ProfList) #Provide a pandas series of the counts for each Professional status\n",
    "status_vals\n",
    "# The below should be a bar chart of the proportion of individuals in each professional category if your status_vals\n",
    "# is set up correctly.\n",
    "\n",
    "print(df[df[\"Professional\"] == \"Professional developer\"].shape[0]/df.Professional.shape[0])\n",
    "(status_vals/df.shape[0]).plot(kind=\"barh\");\n",
    "\n",
    "\n",
    "plt.title(\"What kind of developer are you?\");\n",
    "\n",
    "\n"
   ]
  },
  {
   "cell_type": "code",
   "execution_count": 4,
   "metadata": {},
   "outputs": [
    {
     "name": "stdout",
     "output_type": "stream",
     "text": [
      "0.1581763698630137\n",
      "0.42047400373599003\n",
      "0.21678471357409715\n"
     ]
    },
    {
     "data": {
      "image/png": "[encoded data removed]",
      "text/plain": [
       "<Figure size 432x288 with 1 Axes>"
      ]
     },
     "metadata": {
      "needs_background": "light"
     },
     "output_type": "display_data"
    }
   ],
   "source": [
    "ed_vals = pd.Series(df[\"FormalEducation\"].value_counts())\n",
    "#Provide a pandas series of the counts for each FormalEducation status\n",
    "\n",
    "# The below should be a bar chart of the proportion of individuals in your ed_vals\n",
    "# if it is set up correctly.\n",
    "print(df[df.FormalEducation == \"Some college/university study without earning a bachelor's degree\"].shape[0]/df.FormalEducation.shape[0])\n",
    "print(df[df.FormalEducation == \"Bachelor's degree\"].shape[0]/df.FormalEducation.shape[0])\n",
    "print(df[df.FormalEducation == \"Master's degree\"].shape[0]/df.FormalEducation.shape[0])\n",
    "\n",
    "\n",
    "(ed_vals/df.shape[0]).plot(kind=\"barh\");\n",
    "plt.title(\"Formal Education\");"
   ]
  },
  {
   "cell_type": "code",
   "execution_count": 5,
   "metadata": {},
   "outputs": [
    {
     "name": "stdout",
     "output_type": "stream",
     "text": [
      "People without Bachelor's degree or colllege education: 0.07579350110470442\n",
      "college/university study without earning a bachelor's degree: 0.14910815325753085\n",
      "Bachelor's: 0.47642399094681254\n",
      "Master's: 0.25014819205690575\n",
      "Doctoral: 0.022525192649673977\n",
      "Professional: 0.015088645794039984\n",
      "0.7265721830037183\n",
      "0.9132941747049631\n"
     ]
    },
    {
     "data": {
      "image/png": "[encoded data removed]",
      "text/plain": [
       "<Figure size 432x288 with 1 Axes>"
      ]
     },
     "metadata": {
      "needs_background": "light"
     },
     "output_type": "display_data"
    }
   ],
   "source": [
    "ed_vals = pd.Series(Prof_Dev[\"FormalEducation\"].value_counts())\n",
    "#Provide a pandas series of the counts for each FormalEducation status\n",
    "\n",
    "# The below should be a bar chart of the proportion of individuals in your ed_vals\n",
    "# if it is set up correctly.\n",
    "var1 = Prof_Dev.loc[(Prof_Dev.FormalEducation == \"Some college/university study without earning a bachelor's degree\")].shape[0]/Prof_Dev.FormalEducation.shape[0]\n",
    "NonDegree = Prof_Dev.loc[(Prof_Dev.FormalEducation == \"I never completed any formal education\") | (Prof_Dev.FormalEducation == \"Secondary school\") | (Prof_Dev.FormalEducation == \"Primary/elementary school\")].shape[0]/Prof_Dev.FormalEducation.shape[0]\n",
    "var2 = Prof_Dev[Prof_Dev.FormalEducation == \"Bachelor's degree\"].shape[0]/ (Prof_Dev.FormalEducation.shape[0] - np.sum(Prof_Dev.FormalEducation.isnull()))\n",
    "var3 = Prof_Dev[Prof_Dev.FormalEducation == \"Master's degree\"].shape[0]/(Prof_Dev.FormalEducation.shape[0] - np.sum(Prof_Dev.FormalEducation.isnull()))\n",
    "doc = Prof_Dev[Prof_Dev.FormalEducation == \"Doctoral degree\"].shape[0]/(Prof_Dev.FormalEducation.shape[0] - np.sum(Prof_Dev.FormalEducation.isnull()))\n",
    "prof = Prof_Dev[Prof_Dev.FormalEducation == \"Professional degree\"].shape[0]/(Prof_Dev.FormalEducation.shape[0] - np.sum(Prof_Dev.FormalEducation.isnull()))\n",
    "print(\"People without Bachelor's degree or colllege education: {}\".format(NonDegree))\n",
    "print(\"college/university study without earning a bachelor's degree: {}\".format(var1))\n",
    "print(\"Bachelor's: {}\".format(var2))\n",
    "print(\"Master's: {}\".format(var3))\n",
    "print(\"Doctoral: {}\".format(doc))\n",
    "print(\"Professional: {}\".format(prof))\n",
    "print(var2+var3)\n",
    "print(var1+var2+var3+doc+prof)\n",
    "(ed_vals/Prof_Dev.shape[0]).plot(kind=\"barh\");\n",
    "plt.title(\"Formal Education\");"
   ]
  },
  {
   "cell_type": "code",
   "execution_count": 6,
   "metadata": {},
   "outputs": [
    {
     "data": {
      "image/png": "[encoded data removed]",
      "text/plain": [
       "<Figure size 432x288 with 1 Axes>"
      ]
     },
     "metadata": {
      "needs_background": "light"
     },
     "output_type": "display_data"
    }
   ],
   "source": [
    "count_vals = pd.Series(df[\"Country\"].value_counts())\n",
    "#Provide a pandas series of the counts for each Country\n",
    "\n",
    "# The below should be a bar chart of the proportion of the top 10 countries for the\n",
    "# individuals in your count_vals if it is set up correctly.\n",
    "\n",
    "(count_vals[:10]/df.shape[0]).plot(kind=\"bar\");\n",
    "plt.title(\"Country\");"
   ]
  },
  {
   "cell_type": "markdown",
   "metadata": {},
   "source": [
    "<h2> How to break into the field? </h2>\n",
    "\n",
    "<p> In order to understand how to break into the field, we will look at the CousinEducation field. The get_description fnction  takes the schema dataframe and the column as a string, and returns a string of the description for that column. </p>\n",
    "\n"
   ]
  },
  {
   "cell_type": "code",
   "execution_count": 7,
   "metadata": {},
   "outputs": [
    {
     "name": "stdout",
     "output_type": "stream",
     "text": [
      "The people who run Stack Overflow are just in it for the money\n",
      "Which of the following do you currently identify as?\n",
      "What is the highest level of education received by either of your parents?\n",
      "Which of the following do you identify as?\n",
      "This survey was too long\n",
      "The questions were interesting\n",
      "The questions were confusing\n",
      "I'm interested in learning how other developers answered\n",
      "What is your current annual base salary, before taxes, and excluding bonuses, grants, or other compensation?\n",
      "You said before that you are currently learning how to program. When you have completed your studies, what annual salary do you expect to earn in your first job after graduation?\n"
     ]
    }
   ],
   "source": [
    "def get_description(column_name, schema=schema):\n",
    "    '''\n",
    "    INPUT - schema - pandas dataframe with the schema of the developers survey\n",
    "            column_name - string - the name of the column you would like to know about\n",
    "    OUTPUT - \n",
    "            desc - string - the description of the column\n",
    "    '''\n",
    "    desc = list(schema[schema.Column == column_name]['Question'])[0]\n",
    "    return desc\n",
    "\n",
    "\n",
    "for i in range(-10,0):\n",
    "    print(get_description(df.columns[i])) # This should return a string of the first column description\n",
    "\n",
    "\n"
   ]
  },
  {
   "cell_type": "code",
   "execution_count": 8,
   "metadata": {},
   "outputs": [
    {
     "data": {
      "text/plain": [
       "\"Let's pretend you have a distant cousin. They are 24 years old, have a college degree in a field not related to computer programming, and have been working a non-coding job for the last two years. They want your advice on how to switch to a career as a software developer. Which of the following options would you most strongly recommend to your cousin?\\nLet's pretend you have a distant cousin named Robert. He is 24 years old, has a college degree in a field not related to computer programming, and has been working a non-coding job for the last two years. He wants your advice on how to switch to a career as a software developer. Which of the following options would you most strongly recommend to Robert?\\nLet's pretend you have a distant cousin named Alice. She is 24 years old, has a college degree in a field not related to computer programming, and has been working a non-coding job for the last two years. She wants your advice on how to switch to a career as a software developer. Which of the following options would you most strongly recommend to Alice?\""
      ]
     },
     "execution_count": 8,
     "metadata": {},
     "output_type": "execute_result"
    }
   ],
   "source": [
    "get_description('CousinEducation')"
   ]
  },
  {
   "cell_type": "code",
   "execution_count": 9,
   "metadata": {},
   "outputs": [
    {
     "data": {
      "image/png": "[encoded data removed]",
      "text/plain": [
       "<Figure size 432x288 with 1 Axes>"
      ]
     },
     "metadata": {
      "needs_background": "light"
     },
     "output_type": "display_data"
    }
   ],
   "source": [
    "\n",
    "def total_count(df, col1, col2, look_for):\n",
    "    '''\n",
    "    INPUT:\n",
    "    df - the pandas dataframe you want to search\n",
    "    col1 - the column name you want to look through\n",
    "    col2 - the column you want to count values from\n",
    "    look_for - a list of strings you want to search for in each row of df[col]\n",
    "\n",
    "    OUTPUT:\n",
    "    new_df - a dataframe of each look_for with the count of how often it shows up\n",
    "    '''\n",
    "    new_df = defaultdict(int)\n",
    "    #loop through list of ed types\n",
    "    for val in look_for:\n",
    "        #loop through rows\n",
    "        for idx in range(df.shape[0]):\n",
    "            #if the ed type is in the row, add the devs\n",
    "            if val in df[col1][idx]:\n",
    "                new_df[val] += int(df[col2][idx])\n",
    "    #clean up the resulting dataframe8\n",
    "    new_df = pd.DataFrame(pd.Series(new_df)).reset_index()\n",
    "    new_df.columns = [col1, col2]\n",
    "    new_df.sort_values('count', ascending=False, inplace=True)\n",
    "    return new_df\n",
    "\n",
    "possible_vals = [\"Take online courses\", \"Buy books and work through the exercises\", \n",
    "                 \"None of these\", \"Part-time/evening courses\", \"Return to college\",\n",
    "                 \"Contribute to open source\", \"Conferences/meet-ups\", \"Bootcamp\",\n",
    "                 \"Get a job as a QA tester\", \"Participate in online coding competitions\",\n",
    "                 \"Master's degree\", \"Participate in hackathons\", \"Other\"]\n",
    "def clean_and_plot(df, title='Method of Education Suggested', plot=True):\n",
    "    '''\n",
    "    INPUT \n",
    "        df - a dataframe holding the CousinEducation column\n",
    "        title - string the title of your plot\n",
    "        axis - axis object\n",
    "        plot - bool providing whether or not you want a plot back\n",
    "        \n",
    "    OUTPUT\n",
    "        study_df - a dataframe with the count of how many individuals\n",
    "        Displays a plot of pretty things related to the CousinEducation column.\n",
    "    '''\n",
    "    study = df['CousinEducation'].value_counts().reset_index()\n",
    "    study.rename(columns={'index': 'method', 'CousinEducation': 'count'}, inplace=True)\n",
    "    study_df = total_count(study, 'method', 'count', possible_vals)\n",
    "\n",
    "    study_df.set_index('method', inplace=True)\n",
    "    global newvar\n",
    "    newvar = study_df\n",
    "    if plot:\n",
    "        (study_df/study_df.sum()).plot(kind='barh', legend=None);\n",
    "        plt.title(title);\n",
    "        plt.show()\n",
    "    props_study_df = study_df/study_df.sum()\n",
    "    return props_study_df\n",
    "    \n",
    "props_df = clean_and_plot(Prof_Dev)\n",
    "\n"
   ]
  },
  {
   "cell_type": "code",
   "execution_count": 10,
   "metadata": {},
   "outputs": [
    {
     "name": "stdout",
     "output_type": "stream",
     "text": [
      "0.10244656762578008\n",
      "0.07334180151322693\n",
      "0.10364315826291857\n",
      "0.07562452826715267\n"
     ]
    },
    {
     "data": {
      "text/plain": [
       "method\n",
       "Take online courses                          11250\n",
       "Buy books and work through the exercises      8772\n",
       "Part-time/evening courses                     5630\n",
       "Contribute to open source                     5565\n",
       "Conferences/meet-ups                          4108\n",
       "Bootcamp                                      3984\n",
       "Return to college                             3679\n",
       "Get a job as a QA tester                      2758\n",
       "Participate in online coding competitions     2452\n",
       "Participate in hackathons                     1952\n",
       "Master's degree                               1942\n",
       "Other                                         1822\n",
       "None of these                                  407\n",
       "Name: count, dtype: int64"
      ]
     },
     "execution_count": 10,
     "metadata": {},
     "output_type": "execute_result"
    }
   ],
   "source": [
    "print(5565/np.sum(newvar['count']))\n",
    "print(3984/np.sum(newvar['count']))\n",
    "print(5630/np.sum(newvar['count']))\n",
    "print(4108/np.sum(newvar['count']))\n",
    "newvar['count']"
   ]
  },
  {
   "cell_type": "markdown",
   "metadata": {},
   "source": [
    "<h3> Insights: How to break into the field?</h3>\n",
    "<p>\n",
    "<ul>    \n",
    "<li> <b> 20.7% of professional developers</b> suggest taking online courses is the best way to enter the field of software development. </li>\n",
    "\n",
    "<li> <b>16.1% of professional developers</b> recommend studying textbooks and solving exercises is also a great way to gain the skills required in the industry.  </li>\n",
    " \n",
    "<li> <b> 10.36% of professional developers </b>suggest part-time and evening courses  courses for breaking into software development. </li>\n",
    "\n",
    "<li> <b> 10.24% of respondents </b> suggest contributing to open-source projects to break into software development. </li>\n",
    "    \n",
    "<li> <b> 7.56% of industry professionals </b> advise meeting industry professionals and seeking opportunities. </li>\n",
    "    \n",
    "</ul>    \n",
    "</p>"
   ]
  },
  {
   "cell_type": "markdown",
   "metadata": {},
   "source": [
    "<h2> Are respondents with higher formal education biased towards their own degrees? </h2>"
   ]
  },
  {
   "cell_type": "code",
   "execution_count": 11,
   "metadata": {},
   "outputs": [
    {
     "name": "stderr",
     "output_type": "stream",
     "text": [
      "<ipython-input-11-f3925c103f25>:15: SettingWithCopyWarning: \n",
      "A value is trying to be set on a copy of a slice from a DataFrame.\n",
      "Try using .loc[row_indexer,col_indexer] = value instead\n",
      "\n",
      "See the caveats in the documentation: https://pandas.pydata.org/pandas-docs/stable/user_guide/indexing.html#returning-a-view-versus-a-copy\n",
      "  Prof_Dev['HigherEd'] = Prof_Dev[\"FormalEducation\"].apply(higher_ed)\n"
     ]
    },
    {
     "data": {
      "text/html": [
       "<style  type=\"text/css\" >\n",
       "#T_26461610_6e33_11eb_82b1_08606edaa255row0_col2{\n",
       "            width:  10em;\n",
       "             height:  80%;\n",
       "            background:  linear-gradient(90deg, transparent 23.7%, #d65f5f 23.7%, #d65f5f 27.1%, transparent 27.1%);\n",
       "        }#T_26461610_6e33_11eb_82b1_08606edaa255row1_col2{\n",
       "            width:  10em;\n",
       "             height:  80%;\n",
       "            background:  linear-gradient(90deg, transparent 27.1%, #5fba7d 27.1%, #5fba7d 29.3%, transparent 29.3%);\n",
       "        }#T_26461610_6e33_11eb_82b1_08606edaa255row2_col2{\n",
       "            width:  10em;\n",
       "             height:  80%;\n",
       "            background:  linear-gradient(90deg, transparent 26.6%, #d65f5f 26.6%, #d65f5f 27.1%, transparent 27.1%);\n",
       "        }#T_26461610_6e33_11eb_82b1_08606edaa255row3_col2{\n",
       "            width:  10em;\n",
       "             height:  80%;\n",
       "            background:  linear-gradient(90deg, transparent 11.6%, #d65f5f 11.6%, #d65f5f 27.1%, transparent 27.1%);\n",
       "        }#T_26461610_6e33_11eb_82b1_08606edaa255row4_col2{\n",
       "            width:  10em;\n",
       "             height:  80%;\n",
       "            background:  linear-gradient(90deg, transparent 24.0%, #d65f5f 24.0%, #d65f5f 27.1%, transparent 27.1%);\n",
       "        }#T_26461610_6e33_11eb_82b1_08606edaa255row5_col2{\n",
       "            width:  10em;\n",
       "             height:  80%;\n",
       "            background:  linear-gradient(90deg, transparent 27.1%, #5fba7d 27.1%, #5fba7d 34.5%, transparent 34.5%);\n",
       "        }#T_26461610_6e33_11eb_82b1_08606edaa255row6_col2{\n",
       "            width:  10em;\n",
       "             height:  80%;\n",
       "            background:  linear-gradient(90deg,#d65f5f 27.1%, transparent 27.1%);\n",
       "        }#T_26461610_6e33_11eb_82b1_08606edaa255row7_col2{\n",
       "            width:  10em;\n",
       "             height:  80%;\n",
       "            background:  linear-gradient(90deg, transparent 27.1%, #5fba7d 27.1%, #5fba7d 100.0%, transparent 100.0%);\n",
       "        }#T_26461610_6e33_11eb_82b1_08606edaa255row8_col2{\n",
       "            width:  10em;\n",
       "             height:  80%;\n",
       "            background:  linear-gradient(90deg, transparent 25.2%, #d65f5f 25.2%, #d65f5f 27.1%, transparent 27.1%);\n",
       "        }#T_26461610_6e33_11eb_82b1_08606edaa255row9_col2{\n",
       "            width:  10em;\n",
       "             height:  80%;\n",
       "            background:  linear-gradient(90deg, transparent 26.7%, #d65f5f 26.7%, #d65f5f 27.1%, transparent 27.1%);\n",
       "        }#T_26461610_6e33_11eb_82b1_08606edaa255row10_col2{\n",
       "            width:  10em;\n",
       "             height:  80%;\n",
       "            background:  linear-gradient(90deg, transparent 15.6%, #d65f5f 15.6%, #d65f5f 27.1%, transparent 27.1%);\n",
       "        }#T_26461610_6e33_11eb_82b1_08606edaa255row11_col2{\n",
       "            width:  10em;\n",
       "             height:  80%;\n",
       "            background:  linear-gradient(90deg, transparent 6.3%, #d65f5f 6.3%, #d65f5f 27.1%, transparent 27.1%);\n",
       "        }#T_26461610_6e33_11eb_82b1_08606edaa255row12_col2{\n",
       "            width:  10em;\n",
       "             height:  80%;\n",
       "            background:  linear-gradient(90deg, transparent 27.1%, #5fba7d 27.1%, #5fba7d 28.5%, transparent 28.5%);\n",
       "        }</style><table id=\"T_26461610_6e33_11eb_82b1_08606edaa255\" ><thead>    <tr>        <th class=\"blank level0\" ></th>        <th class=\"col_heading level0 col0\" >PeopleWithMasters</th>        <th class=\"col_heading level0 col1\" >PeopleWithoutMasters</th>        <th class=\"col_heading level0 col2\" >Diff_HigherEd_Vals</th>    </tr>    <tr>        <th class=\"index_name level0\" >method</th>        <th class=\"blank\" ></th>        <th class=\"blank\" ></th>        <th class=\"blank\" ></th>    </tr></thead><tbody>\n",
       "                <tr>\n",
       "                        <th id=\"T_26461610_6e33_11eb_82b1_08606edaa255level0_row0\" class=\"row_heading level0 row0\" >Take online courses</th>\n",
       "                        <td id=\"T_26461610_6e33_11eb_82b1_08606edaa255row0_col0\" class=\"data row0 col0\" >0.205981</td>\n",
       "                        <td id=\"T_26461610_6e33_11eb_82b1_08606edaa255row0_col1\" class=\"data row0 col1\" >0.207471</td>\n",
       "                        <td id=\"T_26461610_6e33_11eb_82b1_08606edaa255row0_col2\" class=\"data row0 col2\" >-0.001490</td>\n",
       "            </tr>\n",
       "            <tr>\n",
       "                        <th id=\"T_26461610_6e33_11eb_82b1_08606edaa255level0_row1\" class=\"row_heading level0 row1\" >Buy books and work through the exercises</th>\n",
       "                        <td id=\"T_26461610_6e33_11eb_82b1_08606edaa255row1_col0\" class=\"data row1 col0\" >0.162241</td>\n",
       "                        <td id=\"T_26461610_6e33_11eb_82b1_08606edaa255row1_col1\" class=\"data row1 col1\" >0.161236</td>\n",
       "                        <td id=\"T_26461610_6e33_11eb_82b1_08606edaa255row1_col2\" class=\"data row1 col2\" >0.001005</td>\n",
       "            </tr>\n",
       "            <tr>\n",
       "                        <th id=\"T_26461610_6e33_11eb_82b1_08606edaa255level0_row2\" class=\"row_heading level0 row2\" >Part-time/evening courses</th>\n",
       "                        <td id=\"T_26461610_6e33_11eb_82b1_08606edaa255row2_col0\" class=\"data row2 col0\" >0.103474</td>\n",
       "                        <td id=\"T_26461610_6e33_11eb_82b1_08606edaa255row2_col1\" class=\"data row2 col1\" >0.103699</td>\n",
       "                        <td id=\"T_26461610_6e33_11eb_82b1_08606edaa255row2_col2\" class=\"data row2 col2\" >-0.000225</td>\n",
       "            </tr>\n",
       "            <tr>\n",
       "                        <th id=\"T_26461610_6e33_11eb_82b1_08606edaa255level0_row3\" class=\"row_heading level0 row3\" >Contribute to open source</th>\n",
       "                        <td id=\"T_26461610_6e33_11eb_82b1_08606edaa255row3_col0\" class=\"data row3 col0\" >0.097225</td>\n",
       "                        <td id=\"T_26461610_6e33_11eb_82b1_08606edaa255row3_col1\" class=\"data row3 col1\" >0.104164</td>\n",
       "                        <td id=\"T_26461610_6e33_11eb_82b1_08606edaa255row3_col2\" class=\"data row3 col2\" >-0.006938</td>\n",
       "            </tr>\n",
       "            <tr>\n",
       "                        <th id=\"T_26461610_6e33_11eb_82b1_08606edaa255level0_row4\" class=\"row_heading level0 row4\" >Bootcamp</th>\n",
       "                        <td id=\"T_26461610_6e33_11eb_82b1_08606edaa255row4_col0\" class=\"data row4 col0\" >0.072305</td>\n",
       "                        <td id=\"T_26461610_6e33_11eb_82b1_08606edaa255row4_col1\" class=\"data row4 col1\" >0.073683</td>\n",
       "                        <td id=\"T_26461610_6e33_11eb_82b1_08606edaa255row4_col2\" class=\"data row4 col2\" >-0.001377</td>\n",
       "            </tr>\n",
       "            <tr>\n",
       "                        <th id=\"T_26461610_6e33_11eb_82b1_08606edaa255level0_row5\" class=\"row_heading level0 row5\" >Return to college</th>\n",
       "                        <td id=\"T_26461610_6e33_11eb_82b1_08606edaa255row5_col0\" class=\"data row5 col0\" >0.070222</td>\n",
       "                        <td id=\"T_26461610_6e33_11eb_82b1_08606edaa255row5_col1\" class=\"data row5 col1\" >0.066906</td>\n",
       "                        <td id=\"T_26461610_6e33_11eb_82b1_08606edaa255row5_col2\" class=\"data row5 col2\" >0.003316</td>\n",
       "            </tr>\n",
       "            <tr>\n",
       "                        <th id=\"T_26461610_6e33_11eb_82b1_08606edaa255level0_row6\" class=\"row_heading level0 row6\" >Conferences/meet-ups</th>\n",
       "                        <td id=\"T_26461610_6e33_11eb_82b1_08606edaa255row6_col0\" class=\"data row6 col0\" >0.066503</td>\n",
       "                        <td id=\"T_26461610_6e33_11eb_82b1_08606edaa255row6_col1\" class=\"data row6 col1\" >0.078624</td>\n",
       "                        <td id=\"T_26461610_6e33_11eb_82b1_08606edaa255row6_col2\" class=\"data row6 col2\" >-0.012121</td>\n",
       "            </tr>\n",
       "            <tr>\n",
       "                        <th id=\"T_26461610_6e33_11eb_82b1_08606edaa255level0_row7\" class=\"row_heading level0 row7\" >Master's degree</th>\n",
       "                        <td id=\"T_26461610_6e33_11eb_82b1_08606edaa255row7_col0\" class=\"data row7 col0\" >0.060329</td>\n",
       "                        <td id=\"T_26461610_6e33_11eb_82b1_08606edaa255row7_col1\" class=\"data row7 col1\" >0.027668</td>\n",
       "                        <td id=\"T_26461610_6e33_11eb_82b1_08606edaa255row7_col2\" class=\"data row7 col2\" >0.032661</td>\n",
       "            </tr>\n",
       "            <tr>\n",
       "                        <th id=\"T_26461610_6e33_11eb_82b1_08606edaa255level0_row8\" class=\"row_heading level0 row8\" >Get a job as a QA tester</th>\n",
       "                        <td id=\"T_26461610_6e33_11eb_82b1_08606edaa255row8_col0\" class=\"data row8 col0\" >0.050138</td>\n",
       "                        <td id=\"T_26461610_6e33_11eb_82b1_08606edaa255row8_col1\" class=\"data row8 col1\" >0.050981</td>\n",
       "                        <td id=\"T_26461610_6e33_11eb_82b1_08606edaa255row8_col2\" class=\"data row8 col2\" >-0.000843</td>\n",
       "            </tr>\n",
       "            <tr>\n",
       "                        <th id=\"T_26461610_6e33_11eb_82b1_08606edaa255level0_row9\" class=\"row_heading level0 row9\" >Participate in online coding competitions</th>\n",
       "                        <td id=\"T_26461610_6e33_11eb_82b1_08606edaa255row9_col0\" class=\"data row9 col0\" >0.045005</td>\n",
       "                        <td id=\"T_26461610_6e33_11eb_82b1_08606edaa255row9_col1\" class=\"data row9 col1\" >0.045183</td>\n",
       "                        <td id=\"T_26461610_6e33_11eb_82b1_08606edaa255row9_col2\" class=\"data row9 col2\" >-0.000178</td>\n",
       "            </tr>\n",
       "            <tr>\n",
       "                        <th id=\"T_26461610_6e33_11eb_82b1_08606edaa255level0_row10\" class=\"row_heading level0 row10\" >Participate in hackathons</th>\n",
       "                        <td id=\"T_26461610_6e33_11eb_82b1_08606edaa255row10_col0\" class=\"data row10 col0\" >0.032061</td>\n",
       "                        <td id=\"T_26461610_6e33_11eb_82b1_08606edaa255row10_col1\" class=\"data row10 col1\" >0.037208</td>\n",
       "                        <td id=\"T_26461610_6e33_11eb_82b1_08606edaa255row10_col2\" class=\"data row10 col2\" >-0.005147</td>\n",
       "            </tr>\n",
       "            <tr>\n",
       "                        <th id=\"T_26461610_6e33_11eb_82b1_08606edaa255level0_row11\" class=\"row_heading level0 row11\" >Other</th>\n",
       "                        <td id=\"T_26461610_6e33_11eb_82b1_08606edaa255row11_col0\" class=\"data row11 col0\" >0.026557</td>\n",
       "                        <td id=\"T_26461610_6e33_11eb_82b1_08606edaa255row11_col1\" class=\"data row11 col1\" >0.035838</td>\n",
       "                        <td id=\"T_26461610_6e33_11eb_82b1_08606edaa255row11_col2\" class=\"data row11 col2\" >-0.009282</td>\n",
       "            </tr>\n",
       "            <tr>\n",
       "                        <th id=\"T_26461610_6e33_11eb_82b1_08606edaa255level0_row12\" class=\"row_heading level0 row12\" >None of these</th>\n",
       "                        <td id=\"T_26461610_6e33_11eb_82b1_08606edaa255row12_col0\" class=\"data row12 col0\" >0.007960</td>\n",
       "                        <td id=\"T_26461610_6e33_11eb_82b1_08606edaa255row12_col1\" class=\"data row12 col1\" >0.007339</td>\n",
       "                        <td id=\"T_26461610_6e33_11eb_82b1_08606edaa255row12_col2\" class=\"data row12 col2\" >0.000621</td>\n",
       "            </tr>\n",
       "    </tbody></table>"
      ],
      "text/plain": [
       "<pandas.io.formats.style.Styler at 0x127434e5c70>"
      ]
     },
     "execution_count": 11,
     "metadata": {},
     "output_type": "execute_result"
    }
   ],
   "source": [
    "\n",
    "\n",
    "def higher_ed(formal_ed_str):\n",
    "    '''\n",
    "    INPUT\n",
    "        formal_ed_str - a string of one of the values from the Formal Education column\n",
    "    \n",
    "    OUTPUT\n",
    "        return 1 if the string is  in (\"Master's degree\", \"Doctoral\", \"Professional degree\")\n",
    "        return 0 otherwise\n",
    "    \n",
    "    '''\n",
    "    if formal_ed_str in (\"Master's degree\", \"Doctoral\"):\n",
    "        return 1\n",
    "    else:\n",
    "        return 0\n",
    "Prof_Dev['HigherEd'] = Prof_Dev[\"FormalEducation\"].apply(higher_ed)\n",
    "higher_ed_perc = Prof_Dev['HigherEd'].mean()\n",
    "    \n",
    "\n",
    "ed_1 = Prof_Dev[Prof_Dev['HigherEd'] == 1] # Subset df to only those with HigherEd of 1\n",
    "ed_0 = Prof_Dev[Prof_Dev['HigherEd'] == 0] # Subset df to only those with HigherEd of 0\n",
    "\n",
    "\n",
    "\n",
    "PeopleWithMasters = clean_and_plot(ed_1, 'Higher Formal Education', plot=False)\n",
    "PeopleWithoutMasters = clean_and_plot(ed_0, 'Max of Bachelors Higher Ed', plot=False)\n",
    "\n",
    "comp_df = pd.merge(PeopleWithMasters, PeopleWithoutMasters, left_index=True, right_index=True)\n",
    "comp_df.columns = ['PeopleWithMasters', 'PeopleWithoutMasters']\n",
    "comp_df['Diff_HigherEd_Vals'] = comp_df['PeopleWithMasters'] - comp_df['PeopleWithoutMasters']\n",
    "comp_df.style.bar(subset=['Diff_HigherEd_Vals'], align='mid', color=['#d65f5f', '#5fba7d'])\n"
   ]
  },
  {
   "cell_type": "markdown",
   "metadata": {},
   "source": [
    "<h3>Insights: Are respondents with higher formal education biased towards their own degrees? </h3>\n",
    "<p>\n",
    "    6% of people with Master’s degrees recommended pursuing a Master’s degree, compared to just 2.76% of people who didn’t have a Master’s degree.\n",
    "    \n",
    "Out of all the professional developers who recommended a Master’s degree, 67.4% had completed a Master’s or doctoral degree themselves. Therefore, <b> respondents with higher education were twice as likely to recommend a Master’s degree than respondents who didn’t graduate with a Master’s degree </b>.\n",
    "\n",
    "</p>"
   ]
  },
  {
   "cell_type": "markdown",
   "metadata": {},
   "source": [
    "<h2> Are bootcamps worth it? </h2>"
   ]
  },
  {
   "cell_type": "code",
   "execution_count": 13,
   "metadata": {
    "scrolled": true
   },
   "outputs": [
    {
     "data": {
      "image/png": "[encoded data removed]",
      "text/plain": [
       "<Figure size 432x288 with 1 Axes>"
      ]
     },
     "metadata": {
      "needs_background": "light"
     },
     "output_type": "display_data"
    }
   ],
   "source": [
    "asa = df[df[\"TimeAfterBootcamp\"].isnull() == False]\n",
    "#print(asa.shape[0] / df.shape[0])\n",
    "comp = asa[\"TimeAfterBootcamp\"].value_counts()/asa.shape[0]\n",
    "#print(comp)\n",
    "comp.plot(kind=\"barh\");\n",
    "plt.title(\"Time It Took for the Job after Bootcamp\");"
   ]
  },
  {
   "cell_type": "markdown",
   "metadata": {},
   "source": [
    "<h3> Insights: Are bootcamps worth it?  </h3>\n",
    "<p>\n",
    "    <ul>\n",
    "        <li> Bootcamps are only recommended by <b> 7.33% of professional developers in the survey. </b> </li>\n",
    "   <li> Approximately <b> 46% of Bootcamp graduates already had a job when they started the program, so it’s hard to tell if the Bootcamp helped them land a new role. </b> </li>\n",
    "   <li> <b> 9.68% of Bootcamp graduates </b> secured a development job before they completed the Bootcamp, whereas <b> 11.3% of respondents </b> found a job after completing the program. So, <b> at least 20% of individuals earned jobs upon graduation or earlier. </b> </li>\n",
    "        <li> <b> 6% of graduates </b> succeeded in finding a job in less than a month, whereas <b> 12.8% of graduates had to wait between one to six months. </b> </li>\n",
    "        <li> <b> 6.26% of participants</b>  had to wait from six months to more than one year to find a job. </li>\n",
    "        <li> <b> 8.1% of graduates </b> didn’t find jobs after completing the Bootcamp until the time of the survey. </li>\n",
    "\n",
    "</ul>\n",
    "</p>"
   ]
  },
  {
   "cell_type": "markdown",
   "metadata": {},
   "source": [
    "<h2> How do different data attributes affect Job Satisfaction?</h2>"
   ]
  },
  {
   "cell_type": "markdown",
   "metadata": {},
   "source": [
    "<h3> The impact of programming being a hobby on job satisfaction </h3>\n",
    "<p> \n",
    "    Individuals who contribute to program as a hobby or contribute to open-source have a higher job satisfaction compared to those who don't. \n",
    "\n",
    "</p>"
   ]
  },
  {
   "cell_type": "code",
   "execution_count": 14,
   "metadata": {},
   "outputs": [
    {
     "data": {
      "text/plain": [
       "ProgramHobby\n",
       "No                                           6.833825\n",
       "Yes, I contribute to open source projects    7.041535\n",
       "Yes, I program as a hobby                    6.913072\n",
       "Yes, both                                    7.108041\n",
       "Name: JobSatisfaction, dtype: float64"
      ]
     },
     "execution_count": 14,
     "metadata": {},
     "output_type": "execute_result"
    }
   ],
   "source": [
    "\n",
    "df.groupby(df['ProgramHobby']).mean()['JobSatisfaction']\n"
   ]
  },
  {
   "cell_type": "markdown",
   "metadata": {},
   "source": [
    "<h3> The impact of company size on job satisfaction </h3>\n",
    "<p> \n",
    "    Individuals working in smaller companies have a higher job satisfaction. \n",
    "\n",
    "</p>"
   ]
  },
  {
   "cell_type": "code",
   "execution_count": 15,
   "metadata": {},
   "outputs": [
    {
     "data": {
      "text/plain": [
       "CompanySize\n",
       "1,000 to 4,999 employees    6.884509\n",
       "10 to 19 employees          7.000799\n",
       "10,000 or more employees    6.810345\n",
       "100 to 499 employees        6.937089\n",
       "20 to 99 employees          6.949092\n",
       "5,000 to 9,999 employees    6.748153\n",
       "500 to 999 employees        6.883661\n",
       "Fewer than 10 employees     7.008749\n",
       "I don't know                6.842679\n",
       "I prefer not to answer      7.280835\n",
       "Name: JobSatisfaction, dtype: float64"
      ]
     },
     "execution_count": 15,
     "metadata": {},
     "output_type": "execute_result"
    }
   ],
   "source": [
    "df.groupby(df['CompanySize']).mean()['JobSatisfaction'] \n"
   ]
  },
  {
   "cell_type": "markdown",
   "metadata": {},
   "source": [
    "<h3> The impact of years spent coding on job satisfaction </h3>\n",
    "<p> \n",
    "    On average, individuals who have been coding for more than 10 years have a higher job satisfaction compared to those who don't. \n",
    "\n",
    "</p>"
   ]
  },
  {
   "cell_type": "code",
   "execution_count": 16,
   "metadata": {},
   "outputs": [
    {
     "data": {
      "text/plain": [
       "YearsProgram\n",
       "1 to 2 years        6.521997\n",
       "10 to 11 years      7.007168\n",
       "11 to 12 years      7.021841\n",
       "12 to 13 years      6.971217\n",
       "13 to 14 years      7.007874\n",
       "14 to 15 years      7.026022\n",
       "15 to 16 years      7.076485\n",
       "16 to 17 years      7.008081\n",
       "17 to 18 years      7.143378\n",
       "18 to 19 years      7.021417\n",
       "19 to 20 years      7.026971\n",
       "2 to 3 years        6.744922\n",
       "20 or more years    7.173002\n",
       "3 to 4 years        6.837037\n",
       "4 to 5 years        6.845028\n",
       "5 to 6 years        6.863687\n",
       "6 to 7 years        6.866345\n",
       "7 to 8 years        6.803702\n",
       "8 to 9 years        6.958616\n",
       "9 to 10 years       6.889085\n",
       "Less than a year    6.516441\n",
       "Name: JobSatisfaction, dtype: float64"
      ]
     },
     "execution_count": 16,
     "metadata": {},
     "output_type": "execute_result"
    }
   ],
   "source": [
    "df.groupby(df['YearsProgram'])['JobSatisfaction'].mean()"
   ]
  },
  {
   "cell_type": "markdown",
   "metadata": {},
   "source": [
    "\n",
    "<h1> Data Preparation</h1>"
   ]
  },
  {
   "cell_type": "markdown",
   "metadata": {},
   "source": [
    "\n",
    "<h2> Are there missing values in the data? </h2>\n",
    "<p> The data set is filled with missing values in all columns except the first six columns. \n",
    "    </p>"
   ]
  },
  {
   "cell_type": "code",
   "execution_count": 17,
   "metadata": {},
   "outputs": [
    {
     "data": {
      "text/plain": [
       "<AxesSubplot:>"
      ]
     },
     "execution_count": 17,
     "metadata": {},
     "output_type": "execute_result"
    },
    {
     "data": {
      "image/png": "[encoded data removed]",
      "text/plain": [
       "<Figure size 1800x720 with 2 Axes>"
      ]
     },
     "metadata": {
      "needs_background": "light"
     },
     "output_type": "display_data"
    }
   ],
   "source": [
    "msno.matrix(df)"
   ]
  },
  {
   "cell_type": "markdown",
   "metadata": {},
   "source": [
    "<h2> How missing values are handled </h2> \n",
    "\n",
    "<p> Dropped rows that had missing values in the salary column. </p>"
   ]
  },
  {
   "cell_type": "markdown",
   "metadata": {},
   "source": [
    "<h2> Are there categorical features and how are they encoded? </h2>\n",
    "\n",
    "<p> The data set contains several categorical features. I have used dummy variable encoding to transform categorical values into encoded boolean columns. </p>"
   ]
  },
  {
   "cell_type": "markdown",
   "metadata": {},
   "source": [
    "<h2> Analysis methods and ML models used </h2>\n",
    "\n",
    "<p> Since we are predicting salary, we must use a regression algorithm to approximate the correct value.    </p>"
   ]
  },
  {
   "cell_type": "markdown",
   "metadata": {},
   "source": [
    "<h2> Removing Missing Values </h2>"
   ]
  },
  {
   "cell_type": "code",
   "execution_count": 18,
   "metadata": {},
   "outputs": [],
   "source": [
    "def clean_data(df):\n",
    "    '''\n",
    "    INPUT\n",
    "    df - pandas dataframe \n",
    "    \n",
    "    OUTPUT\n",
    "    X - A matrix holding all of the variables you want to consider when predicting the response\n",
    "    y - the corresponding response vector\n",
    "    \n",
    "    This function cleans df using the following steps to produce X and y:\n",
    "    1. Drop all the rows with no salaries\n",
    "    2. Create X as all the columns that are not the Salary column\n",
    "    3. Create y as the Salary column\n",
    "    4. Drop the Salary, Respondent, and the ExpectedSalary columns from X\n",
    "    5. For each numeric variable in X, fill the column with the mean value of the column.\n",
    "    6. Create dummy columns for all the categorical variables in X, drop the original columns\n",
    "    '''\n",
    "    # Drop rows with missing salary values\n",
    "    df = df.dropna(subset=['Salary'], axis=0)\n",
    "    y = df['Salary']\n",
    "    \n",
    "    #Drop respondent and expected salary columns\n",
    "    df = df.drop(['Respondent', 'ExpectedSalary', 'Salary'], axis=1)\n",
    "    \n",
    "    # Fill numeric columns with the mean\n",
    "    num_vars = df.select_dtypes(include=['float', 'int']).columns\n",
    "    for col in num_vars:\n",
    "        df[col].fillna((df[col].mean()), inplace=True)\n",
    "        \n",
    "    # Dummy the categorical variables\n",
    "    cat_vars = df.select_dtypes(include=['object']).copy().columns\n",
    "    for var in  cat_vars:\n",
    "        # for each cat add dummy var, drop original column\n",
    "        df = pd.concat([df.drop(var, axis=1), pd.get_dummies(df[var], prefix=var, prefix_sep='_', drop_first=True)], axis=1)\n",
    "    \n",
    "    X = df\n",
    "    return X, y\n",
    "\n",
    "\n",
    "\n",
    "\n",
    "#Use the function to create X and y\n",
    "X, y = clean_data(df)  "
   ]
  },
  {
   "cell_type": "markdown",
   "metadata": {},
   "source": [
    "<h2> Finding the ideal LM Model </h2> "
   ]
  },
  {
   "cell_type": "code",
   "execution_count": 19,
   "metadata": {},
   "outputs": [],
   "source": [
    "def find_optimal_lm_mod(X, y, cutoffs, test_size = .30, random_state=42, plot=True):\n",
    "    '''\n",
    "    INPUT\n",
    "    X - pandas dataframe, X matrix\n",
    "    y - pandas dataframe, response variable\n",
    "    cutoffs - list of ints, cutoff for number of non-zero values in dummy categorical vars\n",
    "    test_size - float between 0 and 1, default 0.3, determines the proportion of data as test data\n",
    "    random_state - int, default 42, controls random state for train_test_split\n",
    "    plot - boolean, default 0.3, True to plot result\n",
    "\n",
    "    OUTPUT\n",
    "    r2_scores_test - list of floats of r2 scores on the test data\n",
    "    r2_scores_train - list of floats of r2 scores on the train data\n",
    "    lm_model - model object from sklearn\n",
    "    X_train, X_test, y_train, y_test - output from sklearn train test split used for optimal model\n",
    "    '''\n",
    "    r2_scores_test, r2_scores_train, num_feats, results = [], [], [], dict()\n",
    "    for cutoff in cutoffs:\n",
    "\n",
    "        #reduce X matrix\n",
    "        reduce_X = X.iloc[:, np.where((X.sum() > cutoff) == True)[0]]\n",
    "        num_feats.append(reduce_X.shape[1])\n",
    "\n",
    "        #split the data into train and test\n",
    "        X_train, X_test, y_train, y_test = train_test_split(reduce_X, y, test_size = test_size, random_state=random_state)\n",
    "\n",
    "        #fit the model and obtain pred response\n",
    "        lm_model = LinearRegression(normalize=True)\n",
    "        lm_model.fit(X_train, y_train)\n",
    "        y_test_preds = lm_model.predict(X_test)\n",
    "        y_train_preds = lm_model.predict(X_train)\n",
    "\n",
    "        #append the r2 value from the test set\n",
    "        r2_scores_test.append(r2_score(y_test, y_test_preds))\n",
    "        r2_scores_train.append(r2_score(y_train, y_train_preds))\n",
    "        results[str(cutoff)] = r2_score(y_test, y_test_preds)\n",
    "\n",
    "    if plot:\n",
    "        plt.plot(num_feats, r2_scores_test, label=\"Test\", alpha=.5)\n",
    "        plt.plot(num_feats, r2_scores_train, label=\"Train\", alpha=.5)\n",
    "        plt.xlabel('Number of Features')\n",
    "        plt.ylabel('Rsquared')\n",
    "        plt.title('Rsquared by Number of Features')\n",
    "        plt.legend(loc=1)\n",
    "        plt.show()\n",
    "\n",
    "    best_cutoff = max(results, key=results.get)\n",
    "\n",
    "    #reduce X matrix\n",
    "    reduce_X = X.iloc[:, np.where((X.sum() > int(best_cutoff)) == True)[0]]\n",
    "    num_feats.append(reduce_X.shape[1])\n",
    "\n",
    "    #split the data into train and test\n",
    "    X_train, X_test, y_train, y_test = train_test_split(reduce_X, y, test_size = test_size, random_state=random_state)\n",
    "\n",
    "    #fit the model\n",
    "    lm_model = LinearRegression(normalize=True)\n",
    "    lm_model.fit(X_train, y_train)\n",
    "\n",
    "    return r2_scores_test, r2_scores_train, lm_model, X_train, X_test, y_train, y_test\n"
   ]
  },
  {
   "cell_type": "code",
   "execution_count": 20,
   "metadata": {},
   "outputs": [
    {
     "data": {
      "image/png": "[encoded data removed]",
      "text/plain": [
       "<Figure size 432x288 with 1 Axes>"
      ]
     },
     "metadata": {
      "needs_background": "light"
     },
     "output_type": "display_data"
    },
    {
     "name": "stdout",
     "output_type": "stream",
     "text": [
      "1088\n",
      "0.7316766986704022\n",
      "0.7968545363044823\n"
     ]
    }
   ],
   "source": [
    "#cutoffs here tell us the number of missing values allowed in the used columns.\n",
    "#Therefore, lower values for the cutoff provides more predictors in the model.\n",
    "cutoffs = [5000, 3500, 2500, 1000, 100, 50, 30, 25]\n",
    "\n",
    "r2_scores_test, r2_scores_train, lm_model, X_train, X_test, y_train, y_test = find_optimal_lm_mod(X, y, cutoffs)\n",
    "\n",
    "print(X_train.shape[1]) #Number of columns\n",
    "print(r2_scores_test[np.argmax(r2_scores_test)]) # The model we should implement test_r2\n",
    "print(r2_scores_train[np.argmax(r2_scores_test)]) # The model we should implement train_r2"
   ]
  },
  {
   "cell_type": "markdown",
   "metadata": {},
   "source": [
    "<h3> Ridge Regression</h3>"
   ]
  },
  {
   "cell_type": "code",
   "execution_count": 21,
   "metadata": {},
   "outputs": [
    {
     "name": "stdout",
     "output_type": "stream",
     "text": [
      "18073.34379481925\n",
      "0.7968545240223955\n",
      "20388.902067757605\n",
      "0.7316876439531219\n"
     ]
    }
   ],
   "source": [
    "rr = Ridge(alpha=0.01)\n",
    "rr.fit(X_train, y_train) \n",
    "pred_train_rr= rr.predict(X_train)\n",
    "print(np.sqrt(mean_squared_error(y_train,pred_train_rr)))\n",
    "print(r2_score(y_train, pred_train_rr))\n",
    "\n",
    "pred_test_rr= rr.predict(X_test)\n",
    "print(np.sqrt(mean_squared_error(y_test,pred_test_rr))) \n",
    "print(r2_score(y_test, pred_test_rr))"
   ]
  },
  {
   "cell_type": "markdown",
   "metadata": {},
   "source": [
    "<h3> Lasso Regression</h3>"
   ]
  },
  {
   "cell_type": "code",
   "execution_count": 22,
   "metadata": {
    "scrolled": true
   },
   "outputs": [
    {
     "name": "stdout",
     "output_type": "stream",
     "text": [
      "18073.34368668377\n",
      "0.7968545264532942\n",
      "20388.37697754405\n",
      "0.7317014638613906\n"
     ]
    }
   ],
   "source": [
    "model_lasso = Lasso(alpha=0.01)\n",
    "model_lasso.fit(X_train, y_train) \n",
    "pred_train_lasso= model_lasso.predict(X_train)\n",
    "print(np.sqrt(mean_squared_error(y_train,pred_train_lasso)))\n",
    "print(r2_score(y_train, pred_train_lasso))\n",
    "\n",
    "pred_test_lasso= model_lasso.predict(X_test)\n",
    "print(np.sqrt(mean_squared_error(y_test,pred_test_lasso))) \n",
    "print(r2_score(y_test, pred_test_lasso))"
   ]
  },
  {
   "cell_type": "markdown",
   "metadata": {},
   "source": [
    "<h3> Elastic Net </h3>"
   ]
  },
  {
   "cell_type": "code",
   "execution_count": 23,
   "metadata": {},
   "outputs": [
    {
     "name": "stdout",
     "output_type": "stream",
     "text": [
      "18822.850177384506\n",
      "0.7796561638584052\n",
      "20476.867206163028\n",
      "0.7293674554946454\n"
     ]
    }
   ],
   "source": [
    "#Elastic Net\n",
    "model_enet = ElasticNet(alpha = 0.01)\n",
    "model_enet.fit(X_train, y_train) \n",
    "pred_train_enet= model_enet.predict(X_train)\n",
    "print(np.sqrt(mean_squared_error(y_train,pred_train_enet)))\n",
    "print(r2_score(y_train, pred_train_enet))\n",
    "\n",
    "pred_test_enet= model_enet.predict(X_test)\n",
    "print(np.sqrt(mean_squared_error(y_test,pred_test_enet)))\n",
    "print(r2_score(y_test, pred_test_enet))\n"
   ]
  },
  {
   "cell_type": "markdown",
   "metadata": {},
   "source": [
    "<h2> Most Influential Factors in Predictiong Salary according to StackOverflow's Developer Survey 2017 </h2> "
   ]
  },
  {
   "cell_type": "code",
   "execution_count": 24,
   "metadata": {},
   "outputs": [
    {
     "data": {
      "text/html": [
       "<div>\n",
       "<style scoped>\n",
       "    .dataframe tbody tr th:only-of-type {\n",
       "        vertical-align: middle;\n",
       "    }\n",
       "\n",
       "    .dataframe tbody tr th {\n",
       "        vertical-align: top;\n",
       "    }\n",
       "\n",
       "    .dataframe thead th {\n",
       "        text-align: right;\n",
       "    }\n",
       "</style>\n",
       "<table border=\"1\" class=\"dataframe\">\n",
       "  <thead>\n",
       "    <tr style=\"text-align: right;\">\n",
       "      <th></th>\n",
       "      <th>est_int</th>\n",
       "      <th>coefs</th>\n",
       "      <th>abs_coefs</th>\n",
       "    </tr>\n",
       "  </thead>\n",
       "  <tbody>\n",
       "    <tr>\n",
       "      <th>42</th>\n",
       "      <td>Country_United States</td>\n",
       "      <td>56731.283619</td>\n",
       "      <td>56731.283619</td>\n",
       "    </tr>\n",
       "    <tr>\n",
       "      <th>28</th>\n",
       "      <td>Country_Norway</td>\n",
       "      <td>40550.628110</td>\n",
       "      <td>40550.628110</td>\n",
       "    </tr>\n",
       "    <tr>\n",
       "      <th>8</th>\n",
       "      <td>Country_Australia</td>\n",
       "      <td>40111.916279</td>\n",
       "      <td>40111.916279</td>\n",
       "    </tr>\n",
       "    <tr>\n",
       "      <th>383</th>\n",
       "      <td>Currency_Swiss francs</td>\n",
       "      <td>36748.955151</td>\n",
       "      <td>36748.955151</td>\n",
       "    </tr>\n",
       "    <tr>\n",
       "      <th>15</th>\n",
       "      <td>Country_Denmark</td>\n",
       "      <td>30497.628811</td>\n",
       "      <td>30497.628811</td>\n",
       "    </tr>\n",
       "    <tr>\n",
       "      <th>123</th>\n",
       "      <td>YearsCodedJob_20 or more years</td>\n",
       "      <td>29980.868555</td>\n",
       "      <td>29980.868555</td>\n",
       "    </tr>\n",
       "    <tr>\n",
       "      <th>27</th>\n",
       "      <td>Country_New Zealand</td>\n",
       "      <td>29954.315738</td>\n",
       "      <td>29954.315738</td>\n",
       "    </tr>\n",
       "    <tr>\n",
       "      <th>23</th>\n",
       "      <td>Country_Israel</td>\n",
       "      <td>29510.172957</td>\n",
       "      <td>29510.172957</td>\n",
       "    </tr>\n",
       "    <tr>\n",
       "      <th>13</th>\n",
       "      <td>Country_Canada</td>\n",
       "      <td>29363.254074</td>\n",
       "      <td>29363.254074</td>\n",
       "    </tr>\n",
       "    <tr>\n",
       "      <th>22</th>\n",
       "      <td>Country_Ireland</td>\n",
       "      <td>28551.627756</td>\n",
       "      <td>28551.627756</td>\n",
       "    </tr>\n",
       "    <tr>\n",
       "      <th>38</th>\n",
       "      <td>Country_Switzerland</td>\n",
       "      <td>27502.879903</td>\n",
       "      <td>27502.879903</td>\n",
       "    </tr>\n",
       "    <tr>\n",
       "      <th>378</th>\n",
       "      <td>Currency_Mexican pesos (MXN$)</td>\n",
       "      <td>-27322.113610</td>\n",
       "      <td>27322.113610</td>\n",
       "    </tr>\n",
       "    <tr>\n",
       "      <th>114</th>\n",
       "      <td>YearsCodedJob_12 to 13 years</td>\n",
       "      <td>25279.750107</td>\n",
       "      <td>25279.750107</td>\n",
       "    </tr>\n",
       "    <tr>\n",
       "      <th>120</th>\n",
       "      <td>YearsCodedJob_18 to 19 years</td>\n",
       "      <td>25129.215217</td>\n",
       "      <td>25129.215217</td>\n",
       "    </tr>\n",
       "    <tr>\n",
       "      <th>121</th>\n",
       "      <td>YearsCodedJob_19 to 20 years</td>\n",
       "      <td>24938.668838</td>\n",
       "      <td>24938.668838</td>\n",
       "    </tr>\n",
       "    <tr>\n",
       "      <th>117</th>\n",
       "      <td>YearsCodedJob_15 to 16 years</td>\n",
       "      <td>23717.323445</td>\n",
       "      <td>23717.323445</td>\n",
       "    </tr>\n",
       "    <tr>\n",
       "      <th>119</th>\n",
       "      <td>YearsCodedJob_17 to 18 years</td>\n",
       "      <td>23538.676371</td>\n",
       "      <td>23538.676371</td>\n",
       "    </tr>\n",
       "    <tr>\n",
       "      <th>116</th>\n",
       "      <td>YearsCodedJob_14 to 15 years</td>\n",
       "      <td>21909.345308</td>\n",
       "      <td>21909.345308</td>\n",
       "    </tr>\n",
       "    <tr>\n",
       "      <th>118</th>\n",
       "      <td>YearsCodedJob_16 to 17 years</td>\n",
       "      <td>21157.006818</td>\n",
       "      <td>21157.006818</td>\n",
       "    </tr>\n",
       "    <tr>\n",
       "      <th>41</th>\n",
       "      <td>Country_United Kingdom</td>\n",
       "      <td>21080.097100</td>\n",
       "      <td>21080.097100</td>\n",
       "    </tr>\n",
       "  </tbody>\n",
       "</table>\n",
       "</div>"
      ],
      "text/plain": [
       "                            est_int         coefs     abs_coefs\n",
       "42            Country_United States  56731.283619  56731.283619\n",
       "28                   Country_Norway  40550.628110  40550.628110\n",
       "8                 Country_Australia  40111.916279  40111.916279\n",
       "383           Currency_Swiss francs  36748.955151  36748.955151\n",
       "15                  Country_Denmark  30497.628811  30497.628811\n",
       "123  YearsCodedJob_20 or more years  29980.868555  29980.868555\n",
       "27              Country_New Zealand  29954.315738  29954.315738\n",
       "23                   Country_Israel  29510.172957  29510.172957\n",
       "13                   Country_Canada  29363.254074  29363.254074\n",
       "22                  Country_Ireland  28551.627756  28551.627756\n",
       "38              Country_Switzerland  27502.879903  27502.879903\n",
       "378   Currency_Mexican pesos (MXN$) -27322.113610  27322.113610\n",
       "114    YearsCodedJob_12 to 13 years  25279.750107  25279.750107\n",
       "120    YearsCodedJob_18 to 19 years  25129.215217  25129.215217\n",
       "121    YearsCodedJob_19 to 20 years  24938.668838  24938.668838\n",
       "117    YearsCodedJob_15 to 16 years  23717.323445  23717.323445\n",
       "119    YearsCodedJob_17 to 18 years  23538.676371  23538.676371\n",
       "116    YearsCodedJob_14 to 15 years  21909.345308  21909.345308\n",
       "118    YearsCodedJob_16 to 17 years  21157.006818  21157.006818\n",
       "41           Country_United Kingdom  21080.097100  21080.097100"
      ]
     },
     "execution_count": 24,
     "metadata": {},
     "output_type": "execute_result"
    }
   ],
   "source": [
    "def coef_weights(coefficients, X_train):\n",
    "    '''\n",
    "    INPUT:\n",
    "    coefficients - the coefficients of the linear model \n",
    "    X_train - the training data, so the column names can be used\n",
    "    OUTPUT:\n",
    "    coefs_df - a dataframe holding the coefficient, estimate, and abs(estimate)\n",
    "    \n",
    "    Provides a dataframe that can be used to understand the most influential coefficients\n",
    "    in a linear model by providing the coefficient estimates along with the name of the \n",
    "    variable attached to the coefficient.\n",
    "    '''\n",
    "    coefs_df = pd.DataFrame()\n",
    "    coefs_df['est_int'] = X_train.columns\n",
    "    coefs_df['coefs'] = lm_model.coef_\n",
    "    coefs_df['abs_coefs'] = np.abs(lm_model.coef_)\n",
    "    coefs_df = coefs_df.sort_values('abs_coefs', ascending=False)\n",
    "    return coefs_df\n",
    "\n",
    "#Use the function\n",
    "coef_df = coef_weights(lm_model.coef_, X_train)\n",
    "\n",
    "\n",
    "coef_df.head(20)"
   ]
  },
  {
   "cell_type": "markdown",
   "metadata": {},
   "source": [
    "<h3> Insights: Most Influential Factors in Predictiong Salary according to StackOverflow's Developer Survey 2017 </h3>\n",
    "<p> \n",
    "    <ul>\n",
    "    <li> Predicted salary growth of StackOverflow survey participants by an R2 score of 79%. </li>\n",
    "    <li> Country, years coded during the job were the highest indicators of salary in prediction. </li> </ul> </p>"
   ]
  }
 ],
 "metadata": {
  "kernelspec": {
   "display_name": "Python 3",
   "language": "python",
   "name": "python3"
  },
  "language_info": {
   "codemirror_mode": {
    "name": "ipython",
    "version": 3
   },
   "file_extension": ".py",
   "mimetype": "text/x-python",
   "name": "python",
   "nbconvert_exporter": "python",
   "pygments_lexer": "ipython3",
   "version": "3.8.5"
  }
 },
 "nbformat": 4,
 "nbformat_minor": 2
}
